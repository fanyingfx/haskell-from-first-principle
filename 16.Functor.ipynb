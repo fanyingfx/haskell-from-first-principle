{
 "cells": [
  {
   "cell_type": "code",
   "execution_count": null,
   "metadata": {},
   "outputs": [],
   "source": [
    "import Test.QuickCheck\n",
    "data FixMePls a = \n",
    "    FixMe\n",
    "    | Pls a\n",
    "    deriving (Eq,Show)\n",
    "instance Functor FixMePls where\n",
    "    fmap _ FixMe =  FixMe\n",
    "    fmap f (Pls a) = Pls (f a)\n"
   ]
  },
  {
   "cell_type": "code",
   "execution_count": null,
   "metadata": {},
   "outputs": [],
   "source": [
    "data WhoCares a = \n",
    "    ItDoesnt\n",
    "    | Matter a\n",
    "    | WhatThisIsCalled\n",
    "    deriving (Eq,Show)\n",
    "instance Functor WhoCares where\n",
    "    fmap f (Matter a) = Matter (f a)\n",
    "    fmap _ ItDoesnt = ItDoesnt\n",
    "    fmap _ WhatThisIsCalled = WhatThisIsCalled"
   ]
  },
  {
   "cell_type": "code",
   "execution_count": null,
   "metadata": {},
   "outputs": [],
   "source": [
    "data CountingBad a = \n",
    "    Heisenberg Int a\n",
    "    deriving (Eq,Show)\n",
    "instance Functor CountingBad where\n",
    "    fmap f (Heisenberg n x) = Heisenberg (n) (f x)\n",
    "oneWhoKnocks = Heisenberg 0 \"Uncle\"\n",
    "fmap (++ \" Jesse\") oneWhoKnocks"
   ]
  },
  {
   "cell_type": "code",
   "execution_count": null,
   "metadata": {},
   "outputs": [],
   "source": [
    ":t const\n",
    "replaceWithP = const 'p'\n",
    "-- replaceWithP 10000\n",
    "-- replaceWithP \"woohoo\"\n",
    "-- replaceWithP (Just 10)\n",
    "\n",
    "fmap replaceWithP (Just 10)\n",
    "fmap replaceWithP Nothing\n",
    "\n",
    "fmap  replaceWithP [1,2,3,4,5]\n",
    "fmap replaceWithP \"Ave\"\n",
    "\n",
    "fmap (+1) []\n",
    ":t fmap replaceWithP [] -- why type changed?\n",
    "\n",
    "-- data (,) a b = (,) a b\n",
    "fmap replaceWithP (10,20)\n",
    "fmap replaceWithP (10,\"woo\")\n"
   ]
  },
  {
   "cell_type": "code",
   "execution_count": null,
   "metadata": {},
   "outputs": [],
   "source": [
    "tossEmOne = fmap (+1) negate\n",
    "tossEmOne 10\n",
    "tossEmOne (-10)"
   ]
  },
  {
   "cell_type": "code",
   "execution_count": null,
   "metadata": {},
   "outputs": [],
   "source": [
    "lms = [Just \"Ave\",Nothing,Just \"woohoo\"]\n",
    "fmap replaceWithP lms\n",
    "(fmap.fmap) replaceWithP lms\n",
    "(fmap.fmap.fmap) replaceWithP lms"
   ]
  },
  {
   "cell_type": "code",
   "execution_count": null,
   "metadata": {},
   "outputs": [],
   "source": [
    ":t fmap.fmap"
   ]
  },
  {
   "cell_type": "code",
   "execution_count": null,
   "metadata": {},
   "outputs": [],
   "source": [
    "a = fmap (+1) $ read \"[1]\" :: [Int]\n",
    "b = (fmap.fmap) (++ \"lol\") (Just [\"Hi,\", \"Hello\"])\n",
    "c =fmap (*2) (\\x -> x - 2)\n",
    "d = fmap ((return '1' ++) .show) (\\x -> [x,1..3])\n",
    "d 0"
   ]
  },
  {
   "cell_type": "code",
   "execution_count": null,
   "metadata": {},
   "outputs": [],
   "source": [
    "e :: IO Integer  \n",
    "e = let ioi = readIO \"1\" :: IO Integer  \n",
    "        changed = fmap (read.  (\"123\"++) . show) ioi  \n",
    "    in fmap (*3) changed\n",
    ":t e"
   ]
  },
  {
   "cell_type": "code",
   "execution_count": null,
   "metadata": {},
   "outputs": [],
   "source": [
    "read (\"123\"++\"1\" ) :: Integer"
   ]
  },
  {
   "cell_type": "code",
   "execution_count": null,
   "metadata": {},
   "outputs": [],
   "source": [
    "functorIdentity :: (Functor f,Eq (f a)) => f a -> Bool\n",
    "functorIdentity f = fmap id f == f\n",
    "functorCompose :: (Eq (f c),Functor f) => (a->b)->(b->c)->f a ->Bool\n",
    "functorCompose f g x = (fmap g (fmap f x)) == (fmap (g . f ) x )\n",
    "\n",
    "quickCheck $ \\x -> functorIdentity (x :: [Int])\n",
    "\n",
    "li x = functorCompose (+1)(*2) (x :: [Int])\n",
    "quickCheck li"
   ]
  },
  {
   "cell_type": "code",
   "execution_count": null,
   "metadata": {},
   "outputs": [],
   "source": [
    "import Test.QuickCheck\n",
    "import Test.QuickCheck.Function\n",
    "\n",
    "functorCompose' :: (Eq (f c), Functor f) => f a\n",
    "                                         -> Fun a b\n",
    "                                         -> Fun b c\n",
    "                                         -> Bool\n",
    "functorCompose' x (Fun _ f) (Fun _ g) = (fmap (g . f) x) == (fmap g .fmap  f $ x)\n",
    "type IntToInt = Fun Int Int\n",
    "type IntFC = [Int]-> IntToInt -> IntToInt -> Bool\n",
    "quickCheck (functorCompose' :: IntFC)"
   ]
  },
  {
   "cell_type": "code",
   "execution_count": null,
   "metadata": {},
   "outputs": [],
   "source": [
    "newtype Identity a = Identity a deriving (Eq,Show)\n",
    "instance Functor Identity where\n",
    "\tfmap f (Identity a) = Identity (f a)\n",
    "instance Arbitrary a => Arbitrary (Identity a) where\n",
    "    arbitrary = Identity <$> arbitrary\n",
    "type IntToInt = Fun Int Int\n",
    "type IntIden = Identity Int -> IntToInt->IntToInt->Bool\n",
    "quickCheck $ \\x -> functorIdentity (x:: Identity Int)\n",
    "quickCheck (functorCompose' :: IntIden)"
   ]
  },
  {
   "cell_type": "code",
   "execution_count": null,
   "metadata": {},
   "outputs": [],
   "source": [
    "data Pair a = Pair a a deriving (Eq,Show)\n",
    "instance Functor Pair where\n",
    "    fmap f (Pair a a') = Pair (f a) (f a')\n",
    "instance Arbitrary a =>Arbitrary (Pair a) where\n",
    "    arbitrary = Pair <$> arbitrary <*> arbitrary\n",
    "type IntPair = Pair Int -> IntToInt -> IntToInt -> Bool\n",
    "quickCheck (functorIdentity :: Pair Int -> Bool)\n",
    "quickCheck (functorCompose' :: IntPair)"
   ]
  },
  {
   "cell_type": "code",
   "execution_count": null,
   "metadata": {},
   "outputs": [],
   "source": [
    "data Two a b = Two a b deriving (Eq,Show)\n",
    "instance Functor (Two a) where\n",
    "    fmap f (Two a b) =Two a (f b)\n",
    "instance (Arbitrary a,Arbitrary b) =>Arbitrary (Two a b) where\n",
    "    arbitrary = Two <$> arbitrary <*> arbitrary\n",
    "type IntTwo = Two Int Int -> IntToInt -> IntToInt -> Bool\n",
    "quickCheck (functorIdentity :: Two Int Int -> Bool)\n",
    "quickCheck (functorCompose' :: IntTwo)"
   ]
  },
  {
   "cell_type": "code",
   "execution_count": null,
   "metadata": {},
   "outputs": [],
   "source": [
    "data Four a b c d = Four a b c d deriving (Eq,Show)\n",
    "instance Functor (Four a b c) where\n",
    "    fmap f (Four a b c d) = Four a b c (f d)\n",
    "instance (Arbitrary a,Arbitrary b,Arbitrary c,Arbitrary d)=>Arbitrary (Four a b c d) where\n",
    "    arbitrary = Four <$> arbitrary <*> arbitrary <*> arbitrary <*> arbitrary\n",
    "type IntFour = Four Int Int Int Int -> IntToInt->IntToInt->Bool\n",
    "\n",
    "quickCheck (functorIdentity :: Four Int Int Int Int -> Bool)\n",
    "quickCheck (functorCompose' :: IntFour)"
   ]
  },
  {
   "cell_type": "code",
   "execution_count": null,
   "metadata": {},
   "outputs": [],
   "source": [
    "data Four' a b  = Four' a a a b deriving (Eq,Show)\n",
    "instance Functor (Four' a ) where\n",
    "    fmap f (Four' a1 a2 a3 b) = Four' a1 a2 a3 (f b)\n",
    "instance (Arbitrary a,Arbitrary b)=>Arbitrary (Four' a b) where\n",
    "    arbitrary = Four' <$> arbitrary <*> arbitrary <*> arbitrary <*> arbitrary\n",
    "type IntFour' = Four' Int Int  -> IntToInt->IntToInt->Bool\n",
    "\n",
    "quickCheck (functorIdentity :: Four' Int Int -> Bool)\n",
    "quickCheck (functorCompose' :: IntFour')"
   ]
  },
  {
   "cell_type": "code",
   "execution_count": null,
   "metadata": {},
   "outputs": [],
   "source": [
    "data Trivial = Trivial deriving (Eq,Show)\n"
   ]
  },
  {
   "cell_type": "code",
   "execution_count": null,
   "metadata": {},
   "outputs": [],
   "source": [
    "liftedInc :: (Functor f ,Num b)=> f b -> f b\n",
    "liftedInc = fmap (+1)\n",
    "\n",
    "liftedShow :: (Functor f, Show a)=>f a -> f String\n",
    "liftedShow = fmap show\n"
   ]
  },
  {
   "cell_type": "code",
   "execution_count": null,
   "metadata": {},
   "outputs": [],
   "source": [
    "liftedInc (Just 2)\n",
    "liftedShow Nothing\n",
    "liftedInc [1..6]\n",
    "liftedShow [1..6]"
   ]
  },
  {
   "cell_type": "code",
   "execution_count": null,
   "metadata": {},
   "outputs": [],
   "source": [
    "data Possibly a = \n",
    "    LolNope\n",
    "    | Yeppers a\n",
    "    deriving (Eq,Show)\n",
    "instance Functor Possibly where\n",
    "    fmap _ LolNope = LolNope\n",
    "    fmap f (Yeppers x) = Yeppers ( f x)\n",
    "\n",
    "fmap (+1) (Yeppers 1)\n",
    "fmap (+1) Nothing"
   ]
  },
  {
   "cell_type": "code",
   "execution_count": null,
   "metadata": {},
   "outputs": [],
   "source": [
    "newtype Constant a b = Constant {getConstant :: a}\n",
    "    deriving (Eq,Show)\n",
    "instance Functor (Constant m ) where\n",
    "    fmap _ (Constant v) = Constant v\n",
    "const 2 (getConstant (Constant 3))\n",
    "fmap (const 2) (Constant 3)"
   ]
  },
  {
   "cell_type": "code",
   "execution_count": null,
   "metadata": {},
   "outputs": [],
   "source": [
    "import Data.Monoid\n",
    "data Wrap f a = \n",
    "    Wrap (f a)\n",
    "    deriving (Eq ,Show)\n",
    "instance Functor f=> Functor(Wrap f) where\n",
    "    fmap f (Wrap fa) = Wrap (fmap f fa)\n",
    "fmap (+1) (Wrap [1,2,3])\n",
    "fmap (+1) (Wrap (Sum 1))"
   ]
  },
  {
   "cell_type": "code",
   "execution_count": null,
   "metadata": {},
   "outputs": [],
   "source": [
    "getInt :: IO Int\n",
    "getInt = fmap read getLine\n",
    "-- getInt = 10 :: Int\n",
    "-- const () getInt\n",
    "-- fmap (const ()) getInt\n",
    "return 1 :: IO Int"
   ]
  },
  {
   "cell_type": "code",
   "execution_count": null,
   "metadata": {},
   "outputs": [],
   "source": [
    "type Nat f g = forall a . f a -> g a"
   ]
  },
  {
   "cell_type": "code",
   "execution_count": null,
   "metadata": {},
   "outputs": [],
   "source": [
    "maybeToList :: Nat Maybe []\n",
    "maybeToList Nothing = []\n",
    "maybeToList (Just a) = [a]\n",
    "\n",
    "-- maybeToList (Just 1)"
   ]
  },
  {
   "cell_type": "code",
   "execution_count": null,
   "metadata": {},
   "outputs": [],
   "source": [
    "-- degenerateMtl :: Num a => Nat Maybe []  \n",
    "-- degenerateMtl Nothing = []  \n",
    "-- degenerateMtl (Just a) = [a+1]"
   ]
  },
  {
   "cell_type": "markdown",
   "metadata": {},
   "source": [
    "## Chapter Exercises"
   ]
  },
  {
   "cell_type": "code",
   "execution_count": null,
   "metadata": {},
   "outputs": [],
   "source": [
    "newtype Mu f = InF {outF :: f (Mu f)}\n",
    "\n",
    "\n",
    "-- newtype Mu List = InF {outF :: List (Mu List)}\n",
    "-- instance Functor f => Functor Mu where\n",
    "--     fmap f (InF x) = InF (fmap (fmap f) x)\n",
    "instance Functor f => Functor (Mu f) where\n",
    "    fmap f (InF x) = InF (fmap (fmap f) x)"
   ]
  },
  {
   "cell_type": "code",
   "execution_count": null,
   "metadata": {},
   "outputs": [],
   "source": [
    "import GHC.Arr\n",
    "data D = D (Array Word Word) Int Int"
   ]
  },
  {
   "cell_type": "code",
   "execution_count": null,
   "metadata": {},
   "outputs": [],
   "source": [
    "newtype Flip f a b = Flip ( f b a) deriving (Eq,Show)\n",
    "newtype K a b = K a\n",
    "instance Functor (Flip K a) where\n",
    "    fmap f (Flip (K a)) = Flip(K (f a))"
   ]
  },
  {
   "cell_type": "code",
   "execution_count": null,
   "metadata": {},
   "outputs": [],
   "source": [
    "data EvilGoateeConst a b = GoatyConst b\n",
    "instance Functor (EvilGoateeConst a) where\n",
    "    fmap f (GoatyConst b) = GoatyConst (f b)\n",
    "    "
   ]
  },
  {
   "cell_type": "code",
   "execution_count": null,
   "metadata": {},
   "outputs": [],
   "source": [
    "data Parappa f g a = Dawrappa (f a) (g a)\n",
    "instance (Functor f, Functor g) => Functor (Parappa f g) where\n",
    "    fmap f (Dawrappa fa ga) = Dawrappa (fmap f fa) (fmap f ga)"
   ]
  },
  {
   "cell_type": "code",
   "execution_count": null,
   "metadata": {},
   "outputs": [],
   "source": [
    "data IgnoreOne f g a b= IgnoringSomething (f a) (g b)\n",
    "instance (Functor g)=>Functor (IgnoreOne f g a) where\n",
    "    fmap f (IgnoringSomething fa gb) = IgnoringSomething fa (fmap f gb)\n",
    "\n",
    "data Notorious g o a t = Notorious (g o) (g a) (g t)\n",
    "instance (Functor g)=>Functor (Notorious g o a) where\n",
    "    fmap f (Notorious go ga gt) = Notorious go ga (fmap f gt)"
   ]
  },
  {
   "cell_type": "code",
   "execution_count": null,
   "metadata": {},
   "outputs": [],
   "source": [
    "data List a = Nil | Cons a (List a) deriving (Eq,Show)\n",
    "instance Functor List where\n",
    "    fmap _ Nil = Nil\n",
    "    fmap f (Cons x xs) = Cons (f x) (fmap f xs)\n"
   ]
  },
  {
   "cell_type": "code",
   "execution_count": 156,
   "metadata": {},
   "outputs": [
    {
     "data": {
      "text/plain": [
       "MoreGoats (OneGoat 1) (OneGoat 2) (OneGoat 3)"
      ]
     },
     "metadata": {},
     "output_type": "display_data"
    }
   ],
   "source": [
    "data GoatLord a =  NoGoat  \n",
    "    | OneGoat a  \n",
    "    | MoreGoats (GoatLord a) (GoatLord a) (GoatLord a)\n",
    "    deriving (Eq,Show)\n",
    "instance Functor GoatLord where\n",
    "    fmap _ NoGoat = NoGoat\n",
    "    fmap f (OneGoat x) = OneGoat (f x)\n",
    "    fmap f (MoreGoats l m r )= MoreGoats (fmap f l) (fmap f m) (fmap f r)\n",
    "\n",
    "MoreGoats (OneGoat 1) (OneGoat 2) (OneGoat 3)"
   ]
  },
  {
   "cell_type": "code",
   "execution_count": 157,
   "metadata": {},
   "outputs": [],
   "source": [
    "data TalkToMe a = \n",
    "        Halt\n",
    "        | Print String a\n",
    "        | Read (String -> a)\n",
    "instance Functor TalkToMe where\n",
    "    fmap _ Halt = Halt\n",
    "    fmap f (Print s a)=Print s (f a)\n",
    "    fmap f (Read g) = Read (f.g)"
   ]
  }
 ],
 "metadata": {
  "kernelspec": {
   "display_name": "Haskell",
   "language": "haskell",
   "name": "haskell"
  },
  "language_info": {
   "codemirror_mode": "ihaskell",
   "file_extension": ".hs",
   "mimetype": "text/x-haskell",
   "name": "haskell",
   "pygments_lexer": "Haskell",
   "version": "9.4.5"
  }
 },
 "nbformat": 4,
 "nbformat_minor": 2
}
