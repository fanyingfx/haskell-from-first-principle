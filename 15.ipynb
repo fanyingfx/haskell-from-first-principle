{
 "cells": [
  {
   "cell_type": "code",
   "execution_count": null,
   "metadata": {},
   "outputs": [],
   "source": [
    ":help"
   ]
  },
  {
   "cell_type": "code",
   "execution_count": null,
   "metadata": {},
   "outputs": [],
   "source": [
    "import Data.Monoid\n",
    "-- :info Sum\n",
    "-- Sum 8 <> Sum 9\n",
    ":info Product"
   ]
  },
  {
   "cell_type": "code",
   "execution_count": null,
   "metadata": {},
   "outputs": [],
   "source": [
    "-- foldr mappend mempty ([2,4,6] :: [Product Int])\n",
    "[2,4,5]:: [Product Int]"
   ]
  },
  {
   "cell_type": "code",
   "execution_count": null,
   "metadata": {},
   "outputs": [],
   "source": [
    "data Booly a = \n",
    "    False'\n",
    "    |True'\n",
    "    deriving (Eq,Show)\n",
    "instance Monoid (Booly a) where\n",
    "    mappend False' _ = False'\n",
    "    mappend _ False' = Fasle'\n",
    "    mappend True' True' = True'\n"
   ]
  },
  {
   "cell_type": "code",
   "execution_count": null,
   "metadata": {},
   "outputs": [],
   "source": [
    ":info Optional"
   ]
  },
  {
   "cell_type": "code",
   "execution_count": null,
   "metadata": {},
   "outputs": [],
   "source": [
    "data Optional a = \n",
    "    Nada\n",
    "    | Only a\n",
    "    deriving (Eq,Show)\n",
    "instance Monoid a => Monoid (Optional a) where\n",
    "    mempty = Nada\n",
    "instance Semigroup a => Semigroup (Optional a) where\n",
    "  Nada <> Nada = Nada\n",
    "  Nada <> (Only a) = Only a\n",
    "  (Only a) <> Nada = Only a\n",
    "  (Only a) <> (Only a') = Only (a <> a')\n",
    "\n",
    "Only (Sum 1) `mappend` Only (Sum 1)"
   ]
  },
  {
   "cell_type": "code",
   "execution_count": null,
   "metadata": {},
   "outputs": [],
   "source": [
    "import Data.Monoid \n",
    "type Verb = String  \n",
    "type Adjective = String  \n",
    "type Adverb = String  \n",
    "type Noun = String  \n",
    "type Exclamation = String\n",
    "\n",
    "madlibbinBetter' :: Exclamation  -> Adverb  -> Noun  -> Adjective  -> String  \n",
    "madlibbinBetter' e adv noun adj = mconcat [e,\"! he said \",adv,\" as he jumped into his car \",noun,\" and drove off with his \",adj,\" wife.\"]\n"
   ]
  },
  {
   "cell_type": "code",
   "execution_count": null,
   "metadata": {},
   "outputs": [],
   "source": [
    "import Data.Monoid\n",
    "import Test.QuickCheck\n",
    "monoidAssoc :: (Eq m, Monoid m) => m -> m -> m -> Bool  \n",
    "monoidAssoc a b c = (a <> (b <> c)) == ((a <> b) <> c)\n",
    "type S = String\n",
    "type B = Bool\n",
    "quickCheck (monoidAssoc :: S->S->S->B)"
   ]
  },
  {
   "cell_type": "code",
   "execution_count": null,
   "metadata": {},
   "outputs": [],
   "source": [
    "import Data.List.NonEmpty as N\n",
    "\n",
    "xs = 1:| [2,3]\n",
    "ys = 4:|[5,6]\n",
    "xs <> ys\n",
    "N.head xs"
   ]
  },
  {
   "cell_type": "markdown",
   "metadata": {},
   "source": [
    "## Chapter Exercises"
   ]
  },
  {
   "cell_type": "code",
   "execution_count": 72,
   "metadata": {},
   "outputs": [
    {
     "data": {
      "text/html": [
       "<style>/* Styles used for the Hoogle display in the pager */\n",
       ".hoogle-doc {\n",
       "display: block;\n",
       "padding-bottom: 1.3em;\n",
       "padding-left: 0.4em;\n",
       "}\n",
       ".hoogle-code {\n",
       "display: block;\n",
       "font-family: monospace;\n",
       "white-space: pre;\n",
       "}\n",
       ".hoogle-text {\n",
       "display: block;\n",
       "}\n",
       ".hoogle-name {\n",
       "color: green;\n",
       "font-weight: bold;\n",
       "}\n",
       ".hoogle-head {\n",
       "font-weight: bold;\n",
       "}\n",
       ".hoogle-sub {\n",
       "display: block;\n",
       "margin-left: 0.4em;\n",
       "}\n",
       ".hoogle-package {\n",
       "font-weight: bold;\n",
       "font-style: italic;\n",
       "}\n",
       ".hoogle-module {\n",
       "font-weight: bold;\n",
       "}\n",
       ".hoogle-class {\n",
       "font-weight: bold;\n",
       "}\n",
       ".get-type {\n",
       "color: green;\n",
       "font-weight: bold;\n",
       "font-family: monospace;\n",
       "display: block;\n",
       "white-space: pre-wrap;\n",
       "}\n",
       ".show-type {\n",
       "color: green;\n",
       "font-weight: bold;\n",
       "font-family: monospace;\n",
       "margin-left: 1em;\n",
       "}\n",
       ".mono {\n",
       "font-family: monospace;\n",
       "display: block;\n",
       "}\n",
       ".err-msg {\n",
       "color: red;\n",
       "font-style: italic;\n",
       "font-family: monospace;\n",
       "white-space: pre;\n",
       "display: block;\n",
       "}\n",
       "#unshowable {\n",
       "color: red;\n",
       "font-weight: bold;\n",
       "}\n",
       ".err-msg.in.collapse {\n",
       "padding-top: 0.7em;\n",
       "}\n",
       ".highlight-code {\n",
       "white-space: pre;\n",
       "font-family: monospace;\n",
       "}\n",
       ".suggestion-warning { \n",
       "font-weight: bold;\n",
       "color: rgb(200, 130, 0);\n",
       "}\n",
       ".suggestion-error { \n",
       "font-weight: bold;\n",
       "color: red;\n",
       "}\n",
       ".suggestion-name {\n",
       "font-weight: bold;\n",
       "}\n",
       "</style><div class=\"suggestion-name\" style=\"clear:both;\">Monoid law, left identity</div><div class=\"suggestion-row\" style=\"float: left;\"><div class=\"suggestion-warning\">Found:</div><div class=\"highlight-code\" id=\"haskell\">mempty <> a</div></div><div class=\"suggestion-row\" style=\"float: left;\"><div class=\"suggestion-warning\">Why Not:</div><div class=\"highlight-code\" id=\"haskell\">a</div></div><div class=\"suggestion-name\" style=\"clear:both;\">Monoid law, right identity</div><div class=\"suggestion-row\" style=\"float: left;\"><div class=\"suggestion-warning\">Found:</div><div class=\"highlight-code\" id=\"haskell\">a <> mempty</div></div><div class=\"suggestion-row\" style=\"float: left;\"><div class=\"suggestion-warning\">Why Not:</div><div class=\"highlight-code\" id=\"haskell\">a</div></div>"
      ],
      "text/plain": [
       "Line 6: Monoid law, left identity\n",
       "Found:\n",
       "mempty <> a\n",
       "Why not:\n",
       "aLine 8: Monoid law, right identity\n",
       "Found:\n",
       "a <> mempty\n",
       "Why not:\n",
       "a"
      ]
     },
     "metadata": {},
     "output_type": "display_data"
    }
   ],
   "source": [
    "import Test.QuickCheck\n",
    "import Data.Semigroup\n",
    "\n",
    "import Data.Monoid\n",
    "monoidLeftIdentity :: (Eq m, Monoid m) => m -> Bool\n",
    "monoidLeftIdentity a = mempty <> a == a\n",
    "monoidRightIdentity :: (Eq m, Monoid m) => m -> Bool\n",
    "monoidRightIdentity a = a <> mempty == a\n",
    "\n",
    "semigroupAssoc :: (Eq m, Semigroup m) => m -> m -> m -> Bool  \n",
    "semigroupAssoc a b c = (a <> (b <> c)) == ((a <> b) <> c)  "
   ]
  },
  {
   "cell_type": "code",
   "execution_count": 74,
   "metadata": {},
   "outputs": [
    {
     "data": {
      "text/plain": [
       "+++ OK, passed 100 tests."
      ]
     },
     "metadata": {},
     "output_type": "display_data"
    },
    {
     "data": {
      "text/plain": [
       "+++ OK, passed 100 tests."
      ]
     },
     "metadata": {},
     "output_type": "display_data"
    },
    {
     "data": {
      "text/plain": [
       "+++ OK, passed 100 tests."
      ]
     },
     "metadata": {},
     "output_type": "display_data"
    }
   ],
   "source": [
    "data Trivial = Trivial deriving (Eq,Show)\n",
    "\n",
    "instance Semigroup Trivial where\n",
    "    _ <> _ = Trivial\n",
    "\n",
    "instance Arbitrary Trivial where\n",
    "    arbitrary = return Trivial\n",
    "instance Monoid Trivial where\n",
    "    mempty  = Trivial\n",
    "    mappend = (<>)\n",
    "type TrivialAssoc = Trivial -> Trivial -> Trivial -> Bool\n",
    "quickCheck (semigroupAssoc :: TrivialAssoc)\n",
    "quickCheck (monoidLeftIdentity :: Trivial -> Bool) \n",
    "quickCheck (monoidRightIdentity :: Trivial -> Bool)"
   ]
  },
  {
   "cell_type": "code",
   "execution_count": null,
   "metadata": {},
   "outputs": [
    {
     "data": {
      "text/plain": [
       "+++ OK, passed 100 tests."
      ]
     },
     "metadata": {},
     "output_type": "display_data"
    },
    {
     "data": {
      "text/plain": [
       "+++ OK, passed 100 tests."
      ]
     },
     "metadata": {},
     "output_type": "display_data"
    },
    {
     "data": {
      "text/plain": [
       "+++ OK, passed 100 tests."
      ]
     },
     "metadata": {},
     "output_type": "display_data"
    }
   ],
   "source": [
    "newtype Identity a = Identity a deriving(Eq,Show)\n",
    "instance Semigroup a => Semigroup (Identity a) where\n",
    "    (Identity x) <> (Identity y) = Identity (x <> y)\n",
    "instance Monoid a => Monoid (Identity a) where\n",
    "  mempty = Identity mempty\n",
    "  mappend = (<>)\n",
    "instance Arbitrary a => Arbitrary (Identity a) where\n",
    "    arbitrary = Identity <$> arbitrary\n",
    "\n",
    "type IdentityAssoc a = Identity a -> Identity a-> Identity a-> Bool\n",
    "\n",
    "quickCheck (semigroupAssoc :: (IdentityAssoc String))\n",
    "quickCheck (monoidLeftIdentity :: Identity String -> Bool) \n",
    "quickCheck (monoidRightIdentity :: Identity String -> Bool)"
   ]
  },
  {
   "cell_type": "code",
   "execution_count": 81,
   "metadata": {},
   "outputs": [
    {
     "data": {
      "text/plain": [
       "+++ OK, passed 100 tests."
      ]
     },
     "metadata": {},
     "output_type": "display_data"
    },
    {
     "data": {
      "text/plain": [
       "+++ OK, passed 100 tests."
      ]
     },
     "metadata": {},
     "output_type": "display_data"
    },
    {
     "data": {
      "text/plain": [
       "+++ OK, passed 100 tests."
      ]
     },
     "metadata": {},
     "output_type": "display_data"
    }
   ],
   "source": [
    "data Three a b c = Three a b c deriving (Eq,Show)\n",
    "instance (Semigroup a ,Semigroup b,Semigroup c) => Semigroup (Three a b c) where\n",
    "    (Three a b c) <> (Three a' b' c') = Three (a<>a') (b<>b') (c<>c')\n",
    "instance (Monoid a ,Monoid b,Monoid c) => Monoid(Three a b c) where\n",
    "    mempty = Three mempty mempty mempty\n",
    "    mappend = (<>)\n",
    "instance (Arbitrary a ,Arbitrary b,Arbitrary c) => Arbitrary (Three a b c) where\n",
    "    arbitrary = Three <$> arbitrary <*> arbitrary <*> arbitrary\n",
    "\n",
    "\n",
    "type ThreeAssoc a b c = Three a b c -> Three a b c -> Three a b c -> Bool\n",
    "quickCheck (semigroupAssoc:: ThreeAssoc String String (Sum Int) )\n",
    "quickCheck (monoidLeftIdentity :: Three String String String -> Bool) \n",
    "quickCheck (monoidRightIdentity :: Three String String String -> Bool)"
   ]
  },
  {
   "cell_type": "code",
   "execution_count": 83,
   "metadata": {},
   "outputs": [
    {
     "data": {
      "text/plain": [
       "+++ OK, passed 100 tests."
      ]
     },
     "metadata": {},
     "output_type": "display_data"
    },
    {
     "data": {
      "text/plain": [
       "+++ OK, passed 100 tests."
      ]
     },
     "metadata": {},
     "output_type": "display_data"
    },
    {
     "data": {
      "text/plain": [
       "+++ OK, passed 100 tests."
      ]
     },
     "metadata": {},
     "output_type": "display_data"
    },
    {
     "data": {
      "text/plain": [
       "+++ OK, passed 100 tests."
      ]
     },
     "metadata": {},
     "output_type": "display_data"
    }
   ],
   "source": [
    "newtype BoolConj = BoolConj Bool deriving (Eq, Show)\n",
    "\n",
    "instance Semigroup BoolConj where\n",
    "    (BoolConj a) <> (BoolConj b) = BoolConj (a && b)\n",
    "\n",
    "instance Monoid BoolConj where\n",
    "    mempty = BoolConj True\n",
    "\n",
    "instance Arbitrary BoolConj where\n",
    "    arbitrary = BoolConj <$> arbitrary\n",
    "\n",
    "newtype BoolDisj = BoolDisj Bool deriving (Eq,Show)\n",
    "\n",
    "instance Semigroup BoolDisj where\n",
    "    (BoolDisj a) <> (BoolDisj b) = BoolDisj (a || b)\n",
    "\n",
    "instance Monoid BoolDisj where\n",
    "    mempty = BoolDisj False\n",
    "\n",
    "instance Arbitrary BoolDisj where\n",
    "    arbitrary = BoolDisj <$> arbitrary\n",
    "\n",
    "\n",
    "type BoolConjAssoc = BoolConj -> BoolConj -> BoolConj -> Bool\n",
    "type BoolDisjAssoc = BoolDisj -> BoolDisj -> BoolDisj -> Bool\n",
    "\n",
    "quickCheck (semigroupAssoc :: BoolConjAssoc)\n",
    "quickCheck (semigroupAssoc :: BoolDisjAssoc)\n",
    "quickCheck (monoidLeftIdentity :: BoolConj -> Bool) \n",
    "quickCheck (monoidRightIdentity :: BoolConj-> Bool)\n"
   ]
  },
  {
   "cell_type": "code",
   "execution_count": null,
   "metadata": {},
   "outputs": [],
   "source": [
    "(BoolDisj True) <> (BoolDisj True)\n",
    "(BoolDisj True) <> (BoolDisj False)\n",
    "(BoolConj True) <> (BoolConj False)"
   ]
  },
  {
   "cell_type": "code",
   "execution_count": 67,
   "metadata": {},
   "outputs": [
    {
     "data": {
      "text/plain": [
       "Snd 2"
      ]
     },
     "metadata": {},
     "output_type": "display_data"
    },
    {
     "data": {
      "text/plain": [
       "Fst 2"
      ]
     },
     "metadata": {},
     "output_type": "display_data"
    },
    {
     "data": {
      "text/plain": [
       "Snd 1"
      ]
     },
     "metadata": {},
     "output_type": "display_data"
    },
    {
     "data": {
      "text/plain": [
       "Snd 1"
      ]
     },
     "metadata": {},
     "output_type": "display_data"
    }
   ],
   "source": [
    "data Or a b = Fst a | Snd b deriving (Show)\n",
    "instance Semigroup(Or a b) where\n",
    "    (Snd a) <> _ = Snd a\n",
    "    (Fst a) <> (Snd b) = Snd b\n",
    "    (Fst a) <> (Fst b) = Fst b\n",
    "\n",
    "Fst 1 <> Snd 2\n",
    "Fst 1 <> Fst 2\n",
    "Snd 1 <> Fst 2\n",
    "Snd 1 <> Snd 2"
   ]
  }
 ],
 "metadata": {
  "kernelspec": {
   "display_name": "Haskell",
   "language": "haskell",
   "name": "haskell"
  },
  "language_info": {
   "codemirror_mode": "ihaskell",
   "file_extension": ".hs",
   "mimetype": "text/x-haskell",
   "name": "haskell",
   "pygments_lexer": "Haskell",
   "version": "9.4.5"
  }
 },
 "nbformat": 4,
 "nbformat_minor": 2
}
